{
 "cells": [
  {
   "cell_type": "markdown",
   "id": "f0a84030",
   "metadata": {},
   "source": [
    "# Workplace Bias Model Notebook"
   ]
  },
  {
   "cell_type": "markdown",
   "id": "7f1612a2",
   "metadata": {},
   "source": [
    "This Jupyter notebook is based on further exploring the github repo 'workplace_gender_bias' created by yuhaodu, which essentially describes a model on gender bias in the workplace. Further work will be taken on upon myself to further explore the model in a newer python version as well as potentially adding more functionality into the model with more areas of human intervention. The first step will be updating the code from python 2.7 to the latest python verson (python 3). Then areas of improvement or additional functions will be added to the code to further improve the model."
   ]
  },
  {
   "cell_type": "markdown",
   "id": "262c8a94",
   "metadata": {},
   "source": [
    "### Notes taken from yuhaodu's journal previewing the code"
   ]
  }
 ],
 "metadata": {
  "kernelspec": {
   "display_name": "Python 3 (ipykernel)",
   "language": "python",
   "name": "python3"
  },
  "language_info": {
   "codemirror_mode": {
    "name": "ipython",
    "version": 3
   },
   "file_extension": ".py",
   "mimetype": "text/x-python",
   "name": "python",
   "nbconvert_exporter": "python",
   "pygments_lexer": "ipython3",
   "version": "3.11.3"
  }
 },
 "nbformat": 4,
 "nbformat_minor": 5
}
